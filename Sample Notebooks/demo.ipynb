{
 "cells": [
  {
   "cell_type": "code",
   "execution_count": 2,
   "source": [
    "import numpy as np"
   ],
   "outputs": [],
   "metadata": {}
  },
  {
   "cell_type": "code",
   "execution_count": null,
   "source": [
    "\"\"\"\n",
    "Author: Sagar\n",
    "email: sagariit.kanpur1@gmail.com\n",
    "\"\"\"\n",
    "\n",
    "from utils.model import Perceptron\n",
    "from utils.all_utils import prepare_data, save_plot, save_model\n",
    "import pandas as pd\n",
    "import numpy as np\n",
    "def main(data, eta, epochs, filename, plotfilename):\n",
    "     \n",
    "    df = pd.DataFrame(data)\n",
    "    print(df)\n",
    "\n",
    "    X,y = prepare_data(df)\n",
    "\n",
    "    model = Perceptron(eta=eta, epochs=epochs)\n",
    "    model.fit(X, y)\n",
    "\n",
    "    _ = model.total_loss()\n",
    "\n",
    "    save_model(model,filename=filename)\n",
    "    save_plot(df,plotfilename, model)\n",
    "\n",
    "\n",
    "    AND = {\n",
    "    \"x1\" : [0,0,1,1],\n",
    "    \"x2\" : [0,1,0,1],\n",
    "     \"y\" : [0,0,0,1],\n",
    "    }\n",
    "      \n",
    "    LR = 0.3\n",
    "    EPOCHS = 4\n",
    "\n",
    "    main(data=AND, eta=LR, epochs=EPOCHS, filename=\"and.model\", plotfilename=\"and.png\")"
   ],
   "outputs": [],
   "metadata": {}
  }
 ],
 "metadata": {
  "kernelspec": {
   "name": "python3",
   "display_name": "Python 3.7.11 64-bit ('oneNeuron': conda)"
  },
  "language_info": {
   "codemirror_mode": {
    "name": "ipython",
    "version": 3
   },
   "file_extension": ".py",
   "mimetype": "text/x-python",
   "name": "python",
   "nbconvert_exporter": "python",
   "pygments_lexer": "ipython3",
   "version": "3.7.11"
  },
  "interpreter": {
   "hash": "b35b425b446b25f3a5ebcd75730ceea180cead09115c6767927cba75fd060836"
  }
 },
 "nbformat": 4,
 "nbformat_minor": 5
}